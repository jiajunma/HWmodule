{
 "cells": [
  {
   "cell_type": "code",
   "execution_count": 4,
   "metadata": {},
   "outputs": [],
   "source": [
    "%load_ext autoreload\n",
    "%autoreload 2\n",
    "\n"
   ]
  },
  {
   "cell_type": "code",
   "execution_count": 2,
   "metadata": {},
   "outputs": [
    {
     "name": "stdout",
     "output_type": "stream",
     "text": [
      "Type B_5:\n",
      " AV_C(L(6,5,3/2,4,5/2)) \n",
      "  = (3, 3, 1, 1, 1, 1, 1) \n",
      " AVC-dim= 30\n",
      "***\n",
      "***\n",
      "*\n",
      "*\n",
      "*\n",
      "*\n",
      "*\n",
      "Type C_10:\n",
      " AV_C(L(31/10,23/10,11/10,-4,-41/10,5/2,19/10,2,21/10,0)) \n",
      "  = (14, 4, 2) \n",
      " AVC-dim= 192\n",
      "**************\n",
      "****\n",
      "**\n"
     ]
    }
   ],
   "source": [
    "orbit = HW2AV(S2F('6,5,3/2,4,5/2'), rtype='B',report=1)\n",
    "orbit = HW2AV(S2F('3.1,2.3,1.1,-4,-4.1,2.5,1.9,2,2.1,0'),rtype = 'C', report = 1)\n"
   ]
  },
  {
   "cell_type": "code",
   "execution_count": 3,
   "metadata": {},
   "outputs": [
    {
     "name": "stdout",
     "output_type": "stream",
     "text": [
      "Type D_5:\n",
      " AV_C(L(2,3,4,5,1)) \n",
      "  = (4, 4, 1, 1) \n",
      " AVC-dim= 32\n",
      "****\n",
      "****\n",
      "*\n",
      "*\n",
      "Type D_8:\n",
      " AV_C(L(2,3,4,5,1,1/2,3/2,23/10)) \n",
      "  = (7, 7, 1, 1) \n",
      " AVC-dim= 102\n",
      "*******\n",
      "*******\n",
      "*\n",
      "*\n"
     ]
    }
   ],
   "source": [
    "orbit = HW2AV(S2F('2,3,4,5,1'),rtype = 'D', report = 1)\n",
    "orbit = HW2AV(S2F('2,3,4,5,1,1/2,3/2,2.3'),rtype = 'D', report = 1)"
   ]
  },
  {
   "cell_type": "code",
   "execution_count": null,
   "metadata": {},
   "outputs": [],
   "source": []
  },
  {
   "cell_type": "code",
   "execution_count": null,
   "metadata": {},
   "outputs": [],
   "source": []
  },
  {
   "cell_type": "code",
   "execution_count": null,
   "metadata": {},
   "outputs": [],
   "source": []
  },
  {
   "cell_type": "code",
   "execution_count": null,
   "metadata": {},
   "outputs": [],
   "source": []
  },
  {
   "cell_type": "code",
   "execution_count": null,
   "metadata": {},
   "outputs": [],
   "source": []
  },
  {
   "cell_type": "code",
   "execution_count": null,
   "metadata": {},
   "outputs": [],
   "source": []
  },
  {
   "cell_type": "code",
   "execution_count": null,
   "metadata": {},
   "outputs": [],
   "source": []
  },
  {
   "cell_type": "code",
   "execution_count": null,
   "metadata": {},
   "outputs": [],
   "source": []
  },
  {
   "cell_type": "code",
   "execution_count": null,
   "metadata": {},
   "outputs": [],
   "source": []
  },
  {
   "cell_type": "code",
   "execution_count": null,
   "metadata": {},
   "outputs": [],
   "source": []
  }
 ],
 "metadata": {
  "kernelspec": {
   "display_name": "Python 3",
   "language": "python",
   "name": "python3"
  },
  "language_info": {
   "codemirror_mode": {
    "name": "ipython",
    "version": 3
   },
   "file_extension": ".py",
   "mimetype": "text/x-python",
   "name": "python",
   "nbconvert_exporter": "python",
   "pygments_lexer": "ipython3",
   "version": "3.8.10"
  }
 },
 "nbformat": 4,
 "nbformat_minor": 4
}
