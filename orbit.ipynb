{
 "cells": [
  {
   "cell_type": "code",
   "execution_count": 1,
   "metadata": {},
   "outputs": [],
   "source": [
    "from HW import *"
   ]
  },
  {
   "cell_type": "code",
   "execution_count": 2,
   "metadata": {},
   "outputs": [
    {
     "name": "stdout",
     "output_type": "stream",
     "text": [
      "Type B_5:\n",
      " AV_C(L(6,5,3/2,4,5/2)) \n",
      "  = (3, 3, 1, 1, 1, 1, 1) \n",
      " AVC-dim= 30\n",
      "***\n",
      "***\n",
      "*\n",
      "*\n",
      "*\n",
      "*\n",
      "*\n"
     ]
    }
   ],
   "source": [
    "orbit = HW2AV(S2F('6,5,3/2,4,5/2'), rtype='B',report=1)"
   ]
  },
  {
   "cell_type": "code",
   "execution_count": 308,
   "metadata": {},
   "outputs": [
    {
     "name": "stdout",
     "output_type": "stream",
     "text": [
      "Type C_10:\n",
      " AV_C(L(31/10,23/10,11/10,-4,-41/10,5/2,19/10,2,21/10,0)) \n",
      "  = (14, 4, 2) \n",
      " AVC-dim= 192\n",
      "**************\n",
      "****\n",
      "**\n"
     ]
    }
   ],
   "source": [
    "#HW = (frac('3.1'),frac('2.3'),frac('1.1'),frac('-4'),frac('-4.1'),frac('2.5'),frac('1.9'),frac('2'),frac('2.1'),frac('0'))\n",
    "#HW = (frac('2.5'),)\n",
    "#HW = (frac('-2'),)\n",
    "HW = (frac('9/2'),frac('7/2'),frac('5/2'),frac('3/2'),frac('1/2'),)\n",
    "HW = (frac('1'),frac('4'),frac('3'),frac('2'),frac('1/2'),)\n",
    "HW = ('3.1','1.1','2.1','-1.9','4.1','2.5')\n",
    "HW = ('2.3','-4','2','0')\n",
    "HW = ('2.3','-4','2','0','2.5')\n",
    "HW = ('3.1','1.1','2.1','-1.9','4.1','-4','2','0','2.5')\n",
    "HW = ('3.1','1.1','2.1','-1.9','4.1','-4','2','0','2.5','2.3')\n",
    "HW = ('3.1','2.3','1.1','-4','-4.1','2.5','1.9','2','2.1','0')\n",
    "\n",
    "orbit = HW2AV(S2F('',rtype = 'C', report = 1)\n"
   ]
  },
  {
   "cell_type": "code",
   "execution_count": 319,
   "metadata": {},
   "outputs": [
    {
     "name": "stdout",
     "output_type": "stream",
     "text": [
      "Type D_5:\n",
      " AV_C(L(2,3,4,5,1)) \n",
      "  = (4, 4, 1, 1) \n",
      " AVC-dim= 32\n",
      "****\n",
      "****\n",
      "*\n",
      "*\n",
      "Type D_8:\n",
      " AV_C(L(2,3,4,5,1,1/2,3/2,23/10)) \n",
      "  = (7, 7, 1, 1) \n",
      " AVC-dim= 102\n",
      "*******\n",
      "*******\n",
      "*\n",
      "*\n"
     ]
    }
   ],
   "source": [
    "orbit = HW2AV(S2F('2,3,4,5,1'),rtype = 'D', report = 1)\n",
    "orbit = HW2AV(S2F('2,3,4,5,1,1/2,3/2,2.3'),rtype = 'D', report = 1)"
   ]
  },
  {
   "cell_type": "code",
   "execution_count": 305,
   "metadata": {},
   "outputs": [
    {
     "data": {
      "text/plain": [
       "['2', ' 3', ' 4', ' 5', ' 1']"
      ]
     },
     "execution_count": 305,
     "metadata": {},
     "output_type": "execute_result"
    }
   ],
   "source": [
    "s = '2, 3, 4, 5, 1'\n",
    "s.split(',')"
   ]
  },
  {
   "cell_type": "code",
   "execution_count": 113,
   "metadata": {},
   "outputs": [
    {
     "name": "stdout",
     "output_type": "stream",
     "text": [
      "(1, 1, 1, 1, 1, -1, -1, -1, -1, -1)\n"
     ]
    }
   ],
   "source": [
    "HW = (1,1,1,1,1)\n",
    "HW = (*HW, *(-wt for wt in HW[::-1]))\n",
    "print(HW)"
   ]
  },
  {
   "cell_type": "code",
   "execution_count": 36,
   "metadata": {},
   "outputs": [
    {
     "name": "stdout",
     "output_type": "stream",
     "text": [
      "([[-2, 2, 3], [-1, 4], [1]], [[1, 3, 5], [2, 6], [4]])\n",
      "**************\n"
     ]
    }
   ],
   "source": [
    "print(RSK((1,-1,2,-2,4,3)))\n",
    "w = (1,1,1,1,1,1,1)\n",
    "ww = HWM(w)\n",
    "PP = RSK2part(ww)\n",
    "\n",
    "print(str_part(PP))"
   ]
  },
  {
   "cell_type": "code",
   "execution_count": 37,
   "metadata": {},
   "outputs": [
    {
     "name": "stdout",
     "output_type": "stream",
     "text": [
      "((7,), ())\n",
      "((7,), ())\n"
     ]
    }
   ],
   "source": [
    "sw = cell_w2symb(PP)\n",
    "print(symbol2repn(sw))\n",
    "ssw = specialsymbol(sw)\n",
    "print(symbol2repn(ssw))"
   ]
  },
  {
   "cell_type": "code",
   "execution_count": 67,
   "metadata": {},
   "outputs": [
    {
     "data": {
      "text/plain": [
       "0"
      ]
     },
     "execution_count": 67,
     "metadata": {},
     "output_type": "execute_result"
    }
   ],
   "source": [
    "repn2genericdegree(symbol2repn(ssw),'C')"
   ]
  },
  {
   "cell_type": "code",
   "execution_count": 70,
   "metadata": {},
   "outputs": [
    {
     "data": {
      "text/plain": [
       "((3, 4), (2, 4))"
      ]
     },
     "execution_count": 70,
     "metadata": {},
     "output_type": "execute_result"
    }
   ],
   "source": [
    "jindD2B(((2,4),(3,4)))"
   ]
  },
  {
   "cell_type": "code",
   "execution_count": 75,
   "metadata": {},
   "outputs": [
    {
     "data": {
      "text/plain": [
       "-1"
      ]
     },
     "execution_count": 75,
     "metadata": {},
     "output_type": "execute_result"
    }
   ],
   "source": [
    "(0-1)//2"
   ]
  },
  {
   "cell_type": "code",
   "execution_count": 211,
   "metadata": {},
   "outputs": [
    {
     "data": {
      "text/plain": [
       "([[-6, -5, -4, -3], [-3, -1, 0, 2], [-2, 0, 5, 6], [1, 3], [3, 4]],\n",
       " [[1, 2, 7, 8], [3, 5, 11, 13], [4, 10, 12, 16], [6, 14], [9, 15]])"
      ]
     },
     "execution_count": 211,
     "metadata": {},
     "output_type": "execute_result"
    }
   ],
   "source": [
    "hw = (3,4,1,-2,0,-3,5,6)\n",
    "hwm = HWM(hw)\n",
    "RSK(hwm)"
   ]
  },
  {
   "cell_type": "code",
   "execution_count": null,
   "metadata": {},
   "outputs": [],
   "source": []
  }
 ],
 "metadata": {
  "kernelspec": {
   "display_name": "Python 3",
   "language": "python",
   "name": "python3"
  },
  "language_info": {
   "codemirror_mode": {
    "name": "ipython",
    "version": 3
   },
   "file_extension": ".py",
   "mimetype": "text/x-python",
   "name": "python",
   "nbconvert_exporter": "python",
   "pygments_lexer": "ipython3",
   "version": "3.8.10"
  }
 },
 "nbformat": 4,
 "nbformat_minor": 4
}
